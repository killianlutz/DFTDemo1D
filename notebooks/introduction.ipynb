{
 "cells": [
  {
   "cell_type": "code",
   "execution_count": 32,
   "metadata": {},
   "outputs": [],
   "source": [
    "using FFTW\n",
    "using GLMakie"
   ]
  },
  {
   "cell_type": "markdown",
   "metadata": {},
   "source": [
    "Given a time-horizon $T > 0$, consider a real-valued signal $f:[0, T] \\rightarrow \\mathbb{R}$."
   ]
  },
  {
   "cell_type": "code",
   "execution_count": 33,
   "metadata": {},
   "outputs": [
    {
     "data": {
      "text/plain": [
       "GLMakie.Screen(...)"
      ]
     },
     "metadata": {},
     "output_type": "display_data"
    }
   ],
   "source": [
    "time_horizon = 10.0\n",
    "t = range(0.0, time_horizon, 300)\n",
    "\n",
    "frequencies = [1.0, 2.0, 5.0] / time_horizon\n",
    "signal = sum(frequencies) do ν\n",
    "    cos.(2π .* ν .* t)\n",
    "end\n",
    "\n",
    "fig, _ = lines(t, signal, color=:black, label=\"signal\", axis=(; xlabel=\"time\", ylabel=\"signal\"), figure=(; size=(500, 500)))\n",
    "display(fig)"
   ]
  },
  {
   "cell_type": "markdown",
   "metadata": {},
   "source": [
    "Once converted to digital, this signal usually consists in $N\\in \\mathbb{N}^*$ samples uniformly separated by $\\delta_t>0$ units of time:\n",
    "$$T = N\\delta_t.$$\n",
    "Denote $F \\in \\mathbb{R}^N$ the sampled signal: \n",
    "$$F_k = f(k\\delta_t), \\qquad 0 \\leq k \\leq N-1$$"
   ]
  },
  {
   "cell_type": "code",
   "execution_count": 34,
   "metadata": {},
   "outputs": [
    {
     "data": {
      "text/plain": [
       "GLMakie.Screen(...)"
      ]
     },
     "metadata": {},
     "output_type": "display_data"
    }
   ],
   "source": [
    "sample_indices = 1:10:length(t)\n",
    "samples = t[sample_indices]\n",
    "\n",
    "signal_sampled = signal[sample_indices]\n",
    "n_samples = length(signal_sampled)\n",
    "\n",
    "fig, ax, _ = lines(t, signal, color=:black, label=\"signal\", axis=(; xlabel=\"time\", title=\"signal: $(n_samples) samples\"), figure=(; size=(500, 500)))\n",
    "scatter!(ax, samples, signal_sampled, color=:red, label=\"samples\")\n",
    "axislegend(ax)\n",
    "display(fig)"
   ]
  },
  {
   "cell_type": "markdown",
   "metadata": {},
   "source": [
    "Given the time-horizon $T$, a natural choice of oscillating function are cosines and sines with a fundamental frequency $\\kappa_1 = 1/T$, that is $g_1(t) = \\exp(i 2\\pi \\kappa_1 t).$\n",
    "Once evaluated at the instants $k\\delta_t$ (i.e. sampled) yields the vector $G_1\\in \\mathbb{C}^N$ whose components are\n",
    "$$G_{1,k} = \\exp\\left(i 2\\pi \\frac k N\\right), \\qquad 0 \\leq k \\leq N-1$$\n",
    "Similarly, the mean component $g_0$ and the $N-2$ subsequent harmonics $g_n(t) = g_1(nt)$ lead to vectors $G_{n,k} = \\exp\\left(i 2\\pi nk/N \\right)$."
   ]
  },
  {
   "cell_type": "code",
   "execution_count": 35,
   "metadata": {},
   "outputs": [
    {
     "data": {
      "text/plain": [
       "GLMakie.Screen(...)"
      ]
     },
     "metadata": {},
     "output_type": "display_data"
    }
   ],
   "source": [
    "G(t, n) = exp(im * 2π * n * t/time_horizon)\n",
    "G1, G2 = map(1:2) do n\n",
    "    G.(t, n)\n",
    "end\n",
    "\n",
    "fig, ax11, _ = lines(t, real(G1), color=:red, label=L\"\\cos(2\\pi\\kappa_1)\", axis=(; xlabel=\"time\", title=\"fundamental oscillations\"), figure=(; size=(500, 1000)))\n",
    "lines!(ax11, t, real(G2), color=:blue, linestyle=:dash, label=L\"\\cos(2\\pi\\kappa_2)\")\n",
    "ax21, _ = lines(fig[2, 1], t, imag(G1), color=:red, label=L\"\\sin(2\\pi\\kappa_1)\", axis=(; xlabel=\"time\"))\n",
    "lines!(ax21, t, imag(G2), color=:blue, linestyle=:dash, label=L\"\\sin(2\\pi\\kappa_2)\")\n",
    "axislegend(ax11)\n",
    "axislegend(ax21)\n",
    "display(fig)"
   ]
  },
  {
   "cell_type": "markdown",
   "metadata": {},
   "source": [
    "The discrete Fourier transform (DFT) is the mapping $\\mathbb{C}^N \\ni F \\mapsto \\hat F \\in \\mathbb{C}^N$ where \n",
    "$$\\hat F_n = G_n^* F = \\sum_{k=0}^{N-1} F_k \\exp\\left(-i 2\\pi \\frac k N\\right),$$\n",
    "or matrix-wise \n",
    "$$\\hat F = G^* F, \\qquad G = \\begin{pmatrix} G_0 & G_1 & \\dots & G_{N-1}\\end{pmatrix} \\in M_N(\\mathbb{C}).$$\n",
    "\n",
    "The $n^{th}$-coefficient of the DFT answers the question: quantify how much oscillations of frequency $\\kappa_n = n/T$ make-up the *sampled* signal $F$ (hopefully the signal $f$ itself)?\n",
    "The FFT is an algorithm which computes the DFT efficiently."
   ]
  },
  {
   "cell_type": "code",
   "execution_count": 36,
   "metadata": {},
   "outputs": [
    {
     "data": {
      "text/plain": [
       "30-element Vector{ComplexF64}:\n",
       "   0.2918881412148732 + 0.0im\n",
       "   15.252963942132652 + 0.15993989481099016im\n",
       "   15.097671459924516 + 0.3166642264872082im\n",
       "  0.05371127908835914 + 0.0023134424118949684im\n",
       "  0.22536715577155997 + 0.010290852470711882im\n",
       "   14.965446060619211 + 0.7853807400423544im\n",
       "   -0.256272718036095 - 0.014805257362804405im\n",
       " -0.12575637322413868 - 0.007656694601836378im\n",
       " -0.08279196960970839 - 0.005092100137399525im\n",
       " -0.06186647652183071 - 0.0036789207144692386im\n",
       "                      ⋮\n",
       "  -0.0618664765218307 + 0.0036789207144692386im\n",
       " -0.08279196960970792 + 0.005092100137399108im\n",
       " -0.12575637322413913 + 0.007656694601835559im\n",
       "   -0.256272718036095 + 0.014805257362804405im\n",
       "   14.965446060619211 - 0.7853807400423543im\n",
       "   0.2253671557715601 - 0.010290852470711074im\n",
       "  0.05371127908835914 - 0.0023134424118949693im\n",
       "   15.097671459924516 - 0.31666422648720804im\n",
       "   15.252963942132652 - 0.15993989481099127im"
      ]
     },
     "metadata": {},
     "output_type": "display_data"
    }
   ],
   "source": [
    "frequency_gap = 1/time_horizon # sampling rate\n",
    "fourier_frequencies = frequency_gap * 0:n_samples-1\n",
    "signal_dft = fft(signal_sampled)"
   ]
  },
  {
   "cell_type": "code",
   "execution_count": 69,
   "metadata": {},
   "outputs": [
    {
     "data": {
      "text/plain": [
       "GLMakie.Screen(...)"
      ]
     },
     "metadata": {},
     "output_type": "display_data"
    }
   ],
   "source": [
    "fig, ax, _ = lines(t, signal, color=:black, label=\"signal\", axis=(; xlabel=\"time\", title=\"signal: $(n_samples) samples\"), figure=(; size=(1500, 500)))\n",
    "scatter!(ax, samples, signal_sampled, color=:red, label=\"samples\")\n",
    "axislegend(ax)\n",
    "\n",
    "ax, _ = stem(fig[1, 2], fourier_frequencies, real(signal_dft), color=:red, stemcolor=:red, label=L\"\\mathrm{real}(\\hat{F}_k)\", axis=(; xlabel=\"frequency (Hz)\", title=\"signal DFT\"))\n",
    "stem!(ax, fourier_frequencies, imag(signal_dft), color=:blue, stemcolor=:blue, label=L\"\\mathrm{imag}(\\hat{F}_k)\")\n",
    "axislegend(ax)\n",
    "\n",
    "energy = sum(abs2, signal_dft)\n",
    "ax, _ = stem(fig[1, 3], fourier_frequencies, abs2.(signal_dft)./energy, color=:purple, stemcolor=:purple, label=L\"|\\hat{F}_k|^2/|\\hat{F}|^2\", axis=(; xlabel=\"frequency (Hz)\", title=\"relative energy\"))\n",
    "axislegend(ax)\n",
    "display(fig)"
   ]
  },
  {
   "cell_type": "markdown",
   "metadata": {},
   "source": [
    "Up to rescaling, the DFT matrix $G$ is an isometry \n",
    "$$GG^* = G^*G = N I_N.$$\n",
    "This implies Parseval's relation which states that a sampled signal's energy equals the energy of its Fourier components\n",
    "$$\\sum_{k=1}^{N-1} |F_k|^2 = \\frac{1}{N} \\sum_{k=0}^{N-1}|\\hat F_k|^2$$"
   ]
  },
  {
   "cell_type": "code",
   "execution_count": 38,
   "metadata": {},
   "outputs": [
    {
     "name": "stdout",
     "output_type": "stream",
     "text": [
      "signal_energy = 45.69982004305361\n",
      "mean_fourier_energy = 45.69982004305361\n"
     ]
    }
   ],
   "source": [
    "signal_energy = sum(abs2, signal_sampled)\n",
    "mean_fourier_energy = sum(abs2, signal_dft)/n_samples\n",
    "@show signal_energy\n",
    "@show mean_fourier_energy\n",
    "nothing"
   ]
  },
  {
   "cell_type": "markdown",
   "metadata": {},
   "source": [
    "Notice the horizontal symmetry of the modulus of Fourier components for the real-valued sampled-signal $F$: \n",
    "$$|F_n| = |F_{N - n}|, \\qquad 1 \\leq n \\leq \\operatorname{floor}(N/2)$$\n",
    "\n",
    "Similarly, the real and imaginary parts satisfy\n",
    "$$\\Re(\\hat F_n) = \\Re(\\hat F_{N - n}), \\qquad \\Im(\\hat F_n) = -\\Im(\\hat F_{N - n})$$\n",
    "because cos (resp. sin) is an even (resp. odd) function while the frequencies with indices $n \\geq \\operatorname{floor}(N/2)$ appear due to discretization as if they were negative frequencies $n-\\operatorname{floor}(N/2)$."
   ]
  },
  {
   "cell_type": "markdown",
   "metadata": {},
   "source": [
    "Applying the DFT four times yields a sampled signal $F$ yields a scaled-up version of itself\n",
    "$$(G^*)^4F = N^2 F \\Longrightarrow (G^*)^{-1} = \\frac{1}{N^2}(G^*)^3.$$\n",
    "The ‘'isometry'' property also yields \n",
    "$$(G^*)^{-1} = \\frac{1}{N}G.$$"
   ]
  },
  {
   "cell_type": "code",
   "execution_count": 39,
   "metadata": {},
   "outputs": [
    {
     "data": {
      "text/plain": [
       "GLMakie.Screen(...)"
      ]
     },
     "metadata": {},
     "output_type": "display_data"
    }
   ],
   "source": [
    "signal_dft_fourtimes = real(fft(fft(fft(signal_dft)))) / n_samples^2\n",
    "signal_inv_dft = real(ifft(signal_dft))\n",
    "\n",
    "fig, ax, _ = lines(t, signal, color=:black, label=\"signal\", axis=(; xlabel=\"time\", title=\"signal: $(n_samples) samples\"), figure=(; size=(1000, 500)))\n",
    "scatter!(ax, samples, signal_dft_fourtimes, color=:red, label=\"DFT four times (scaled)\")\n",
    "stem!(ax, samples, signal_inv_dft, color=:blue, markersize=0, stemcolor=:blue, label=\"inverse DFT)\")\n",
    "axislegend(ax)\n",
    "display(fig)"
   ]
  },
  {
   "cell_type": "markdown",
   "metadata": {},
   "source": [
    "Consider $\\tau \\in (0, 1]$ a compression *threshold*. It is possible to compress the original sampled signal by thresholding the $M_\\tau\\leq N$ Fourier components which contribute the least to the total energy. \n",
    "\n",
    "Write \n",
    "$$w_k = \\frac{|\\hat{F}_k|^2}{\\sum_{j=0}^{N-1} |\\hat{F}_j|^2}.$$\n",
    "Consider then $\\hat{F}^{(\\tau)}\\in \\mathbb{C}^N$ such that \n",
    "$$\\hat{F}^{(\\tau)}_k = \\hat{F}_k \\mathbb{1}_{(\\tau, 1]}(w_k),$$\n",
    "i.e. which equals the Fourier components of $F$ provided it contributes to at least $\\tau$ percent of the total energy of the sampled signal.\n",
    "\n",
    "We refer by *compression rate* to the relative number of components discard in the compressed signal:\n",
    "$$\\mathrm{CR}_\\tau = \\frac{N - M_\\tau}{N}$$\n",
    "The higuer the compression rate, the less components we keep."
   ]
  },
  {
   "cell_type": "code",
   "execution_count": 70,
   "metadata": {},
   "outputs": [
    {
     "data": {
      "text/plain": [
       "GLMakie.Screen(...)"
      ]
     },
     "metadata": {},
     "output_type": "display_data"
    }
   ],
   "source": [
    "threshold = 0.15\n",
    "\n",
    "weights = abs2.(signal_dft)./sum(abs2, signal_dft)\n",
    "signal_dft_compressed = [(w > threshold) ? c : zero(c) for (c, w) in zip(signal_dft, weights)]\n",
    "\n",
    "signal_compressed = real(ifft(signal_dft_compressed))\n",
    "compression_error = signal_compressed - signal_sampled\n",
    "keep = sum(weights) do w \n",
    "    (w > threshold) ? 1 : 0\n",
    "end\n",
    "compression_rate = (n_samples - keep)/n_samples\n",
    "\n",
    "\n",
    "percent_compression_rate = round(compression_rate*100, digits=2)\n",
    "percent_threshold = round(threshold*100, digits=2)\n",
    "\n",
    "fig, ax, _ = lines(t, signal, color=:black, label=\"signal\", \n",
    "    axis=(; xlabel=\"time\", title=\"compression rate: $(percent_compression_rate)%, threshold $(percent_threshold)%, \"),\n",
    "    figure=(; size=(500, 1000))\n",
    ")\n",
    "stem!(ax, samples, signal_compressed, color=:blue, stemcolor=:blue, label=\"compressed\")\n",
    "stem(fig[2, 1], samples, compression_error, color=:red, stemcolor=:red, axis=(; xlabel=\"time\", title=\"compression error\"))\n",
    "axislegend(ax)\n",
    "display(fig)"
   ]
  }
 ],
 "metadata": {
  "kernelspec": {
   "display_name": "Julia 1.9.4",
   "language": "julia",
   "name": "julia-1.9"
  },
  "language_info": {
   "file_extension": ".jl",
   "mimetype": "application/julia",
   "name": "julia",
   "version": "1.9.4"
  }
 },
 "nbformat": 4,
 "nbformat_minor": 2
}
